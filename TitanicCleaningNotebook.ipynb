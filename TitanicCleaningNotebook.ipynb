{
 "cells": [
  {
   "cell_type": "markdown",
   "metadata": {},
   "source": [
    "# Czyszczenie danych i przygotowanie ich do analizy"
   ]
  },
  {
   "cell_type": "markdown",
   "metadata": {},
   "source": [
    "Celem zadania jest oczyszcenie zbioru TitanicMess, tak aby w przyszłości nadawał się do analizy.\n",
    "\n",
    "Pierwszym krokiem jest zidentyfikowanie problemów z jakością danych, a następnie ich usunięcie.\n",
    "\n",
    "Problemy z jakością danych mogą występować, jeżeli w zbiorze można odnaleźć:\n",
    "- brakujące wartości,\n",
    "- dane odstające - mogące zaburzyć np. proces klasyfikacji,\n",
    "- niepotrzebne dane - duplikaty, powtarzające się wartości,\n",
    "- niespójne dane.\n",
    "\n",
    "\n",
    "Najpierw należy załadować potrzebne biblioteki oraz zbiór, który będzie oczyszczany."
   ]
  },
  {
   "cell_type": "markdown",
   "metadata": {},
   "source": [
    "### Załadowanie potrzebnych bibliotek"
   ]
  },
  {
   "cell_type": "code",
   "execution_count": 2,
   "metadata": {},
   "outputs": [],
   "source": [
    "# Import python libraries\n",
    "import numpy as np\n",
    "import pandas as pd\n",
    "import seaborn as sns\n",
    "import copy\n",
    "import math\n",
    "import re"
   ]
  },
  {
   "cell_type": "markdown",
   "metadata": {},
   "source": [
    "### Odczyt pliku, którego separatorem jest tabulacja"
   ]
  },
  {
   "cell_type": "code",
   "execution_count": 3,
   "metadata": {},
   "outputs": [],
   "source": [
    "df = pd.read_csv(\"TitanicMess.tsv\", sep=\"\\t\")\n",
    "                 #, na_values=[' ']).fillna(0)"
   ]
  },
  {
   "cell_type": "markdown",
   "metadata": {},
   "source": [
    "Liczba obiektów z zbiorze i typy danych."
   ]
  },
  {
   "cell_type": "code",
   "execution_count": 4,
   "metadata": {},
   "outputs": [
    {
     "name": "stdout",
     "output_type": "stream",
     "text": [
      "<class 'pandas.core.frame.DataFrame'>\n",
      "RangeIndex: 892 entries, 0 to 891\n",
      "Data columns (total 13 columns):\n",
      " #   Column       Non-Null Count  Dtype \n",
      "---  ------       --------------  ----- \n",
      " 0   PassengerId  892 non-null    int64 \n",
      " 1   Survived     892 non-null    int64 \n",
      " 2   Pclass       892 non-null    int64 \n",
      " 3   Name         892 non-null    object\n",
      " 4   Sex          892 non-null    object\n",
      " 5   Age          719 non-null    object\n",
      " 6   SibSp        892 non-null    int64 \n",
      " 7   Parch        892 non-null    int64 \n",
      " 8   Ticket       892 non-null    object\n",
      " 9   Fare         892 non-null    object\n",
      " 10  Cabin        207 non-null    object\n",
      " 11  Embarked     890 non-null    object\n",
      " 12  ship         892 non-null    object\n",
      "dtypes: int64(5), object(8)\n",
      "memory usage: 90.7+ KB\n"
     ]
    }
   ],
   "source": [
    "df.info()"
   ]
  },
  {
   "cell_type": "markdown",
   "metadata": {},
   "source": [
    "Poniższa tebela przedstawia 5 pierwszych obiektów w zbiorze."
   ]
  },
  {
   "cell_type": "code",
   "execution_count": 5,
   "metadata": {},
   "outputs": [
    {
     "data": {
      "text/html": [
       "<div>\n",
       "<style scoped>\n",
       "    .dataframe tbody tr th:only-of-type {\n",
       "        vertical-align: middle;\n",
       "    }\n",
       "\n",
       "    .dataframe tbody tr th {\n",
       "        vertical-align: top;\n",
       "    }\n",
       "\n",
       "    .dataframe thead th {\n",
       "        text-align: right;\n",
       "    }\n",
       "</style>\n",
       "<table border=\"1\" class=\"dataframe\">\n",
       "  <thead>\n",
       "    <tr style=\"text-align: right;\">\n",
       "      <th></th>\n",
       "      <th>PassengerId</th>\n",
       "      <th>Survived</th>\n",
       "      <th>Pclass</th>\n",
       "      <th>Name</th>\n",
       "      <th>Sex</th>\n",
       "      <th>Age</th>\n",
       "      <th>SibSp</th>\n",
       "      <th>Parch</th>\n",
       "      <th>Ticket</th>\n",
       "      <th>Fare</th>\n",
       "      <th>Cabin</th>\n",
       "      <th>Embarked</th>\n",
       "      <th>ship</th>\n",
       "    </tr>\n",
       "  </thead>\n",
       "  <tbody>\n",
       "    <tr>\n",
       "      <th>0</th>\n",
       "      <td>1</td>\n",
       "      <td>0</td>\n",
       "      <td>3</td>\n",
       "      <td>Braund, Mr. Owen Harris</td>\n",
       "      <td>male</td>\n",
       "      <td>22</td>\n",
       "      <td>1</td>\n",
       "      <td>0</td>\n",
       "      <td>A/5 21171</td>\n",
       "      <td>7,25</td>\n",
       "      <td>NaN</td>\n",
       "      <td>S</td>\n",
       "      <td>Titanic</td>\n",
       "    </tr>\n",
       "    <tr>\n",
       "      <th>1</th>\n",
       "      <td>2</td>\n",
       "      <td>1</td>\n",
       "      <td>1</td>\n",
       "      <td>Cumings, Mrs. John Bradley (Florence Briggs Th...</td>\n",
       "      <td>female</td>\n",
       "      <td>38</td>\n",
       "      <td>1</td>\n",
       "      <td>0</td>\n",
       "      <td>PC 17599</td>\n",
       "      <td>71,2833</td>\n",
       "      <td>C85</td>\n",
       "      <td>C</td>\n",
       "      <td>Titanic</td>\n",
       "    </tr>\n",
       "    <tr>\n",
       "      <th>2</th>\n",
       "      <td>3</td>\n",
       "      <td>1</td>\n",
       "      <td>3</td>\n",
       "      <td>Heikkinen, Miss. Laina</td>\n",
       "      <td>female</td>\n",
       "      <td>26</td>\n",
       "      <td>0</td>\n",
       "      <td>0</td>\n",
       "      <td>STON/O2. 3101282</td>\n",
       "      <td>7,925</td>\n",
       "      <td>NaN</td>\n",
       "      <td>S</td>\n",
       "      <td>Titanic</td>\n",
       "    </tr>\n",
       "    <tr>\n",
       "      <th>3</th>\n",
       "      <td>4</td>\n",
       "      <td>1</td>\n",
       "      <td>1</td>\n",
       "      <td>Futrelle, Mrs. Jacques Heath (Lily May Peel)</td>\n",
       "      <td>female</td>\n",
       "      <td>35</td>\n",
       "      <td>1</td>\n",
       "      <td>0</td>\n",
       "      <td>113803</td>\n",
       "      <td>53,1</td>\n",
       "      <td>C123</td>\n",
       "      <td>S</td>\n",
       "      <td>Titanic</td>\n",
       "    </tr>\n",
       "    <tr>\n",
       "      <th>4</th>\n",
       "      <td>5</td>\n",
       "      <td>0</td>\n",
       "      <td>3</td>\n",
       "      <td>Allen, Mr. William Henry</td>\n",
       "      <td>male</td>\n",
       "      <td>35</td>\n",
       "      <td>0</td>\n",
       "      <td>0</td>\n",
       "      <td>373450</td>\n",
       "      <td>8,05</td>\n",
       "      <td>NaN</td>\n",
       "      <td>S</td>\n",
       "      <td>Titanic</td>\n",
       "    </tr>\n",
       "  </tbody>\n",
       "</table>\n",
       "</div>"
      ],
      "text/plain": [
       "   PassengerId  Survived  Pclass  \\\n",
       "0            1         0       3   \n",
       "1            2         1       1   \n",
       "2            3         1       3   \n",
       "3            4         1       1   \n",
       "4            5         0       3   \n",
       "\n",
       "                                                Name     Sex Age  SibSp  \\\n",
       "0                            Braund, Mr. Owen Harris    male  22      1   \n",
       "1  Cumings, Mrs. John Bradley (Florence Briggs Th...  female  38      1   \n",
       "2                             Heikkinen, Miss. Laina  female  26      0   \n",
       "3       Futrelle, Mrs. Jacques Heath (Lily May Peel)  female  35      1   \n",
       "4                           Allen, Mr. William Henry    male  35      0   \n",
       "\n",
       "   Parch            Ticket     Fare Cabin Embarked     ship  \n",
       "0      0         A/5 21171     7,25   NaN        S  Titanic  \n",
       "1      0          PC 17599  71,2833   C85        C  Titanic  \n",
       "2      0  STON/O2. 3101282    7,925   NaN        S  Titanic  \n",
       "3      0            113803     53,1  C123        S  Titanic  \n",
       "4      0            373450     8,05   NaN        S  Titanic  "
      ]
     },
     "execution_count": 5,
     "metadata": {},
     "output_type": "execute_result"
    }
   ],
   "source": [
    "df.head()"
   ]
  },
  {
   "cell_type": "markdown",
   "metadata": {},
   "source": [
    "Typ kolumny Age został zidentyfikowany jako object, choć powinna ona zawierać jedynie dodatnie liczby całkowite. Może to oznaczać, że niektóre wartości przechowywane tam są wpisane błędnie. Kolumna Age zostanie zbadana w późniejszej części zadania."
   ]
  },
  {
   "cell_type": "markdown",
   "metadata": {},
   "source": [
    "## Niepotrzebne dane"
   ]
  },
  {
   "cell_type": "markdown",
   "metadata": {},
   "source": [
    "Jak można zaobserwować w powyższej tabeli - wszystkie obiekty w kolumnie ship i Parch zawierają takie same wartości. \n",
    "Tak, więc istnieje podejrzenie, iż kolumny te mogą być niepotrzebne w procesie analizy. Przed usunięciem kolumn należy najpierw sprawdzić \n",
    "ile różnych wartości zawierają, aby nie usunąć takiej, która zawiera potrzebne informacje."
   ]
  },
  {
   "cell_type": "code",
   "execution_count": 6,
   "metadata": {},
   "outputs": [
    {
     "data": {
      "text/plain": [
       "PassengerId    888\n",
       "Survived         2\n",
       "Pclass           3\n",
       "Name           889\n",
       "Sex              6\n",
       "Age             93\n",
       "SibSp            7\n",
       "Parch            6\n",
       "Ticket         680\n",
       "Fare           250\n",
       "Cabin          145\n",
       "Embarked         6\n",
       "ship             1\n",
       "dtype: int64"
      ]
     },
     "execution_count": 6,
     "metadata": {},
     "output_type": "execute_result"
    }
   ],
   "source": [
    "df.nunique(axis=0)"
   ]
  },
  {
   "cell_type": "markdown",
   "metadata": {},
   "source": [
    "Wartość w kolumnie ship jest taka sama dla wszystkich obiektów.\n",
    "\n",
    "Takie dane są niepotrzebne w analizie, więc kolumna ship zostaje usunięta ze zbioru."
   ]
  },
  {
   "cell_type": "code",
   "execution_count": 7,
   "metadata": {},
   "outputs": [],
   "source": [
    "cols_to_drop = ['ship']\n",
    "df = df.drop(cols_to_drop, axis=1)"
   ]
  },
  {
   "cell_type": "markdown",
   "metadata": {},
   "source": [
    "Lista kolumn po usunięciu kolumny ship"
   ]
  },
  {
   "cell_type": "code",
   "execution_count": 8,
   "metadata": {},
   "outputs": [
    {
     "name": "stdout",
     "output_type": "stream",
     "text": [
      "['PassengerId' 'Survived' 'Pclass' 'Name' 'Sex' 'Age' 'SibSp' 'Parch'\n",
      " 'Ticket' 'Fare' 'Cabin' 'Embarked']\n"
     ]
    }
   ],
   "source": [
    "print(df.columns.values)"
   ]
  },
  {
   "cell_type": "markdown",
   "metadata": {},
   "source": [
    "Niepotrzebnymi danymi mogą być również zduplikowane obiekty - dwa lub więcej niczym nie różniących się obiektów (wszystkie wartości cech w obserwacjach są takie same). \n"
   ]
  },
  {
   "cell_type": "code",
   "execution_count": 9,
   "metadata": {},
   "outputs": [
    {
     "name": "stdout",
     "output_type": "stream",
     "text": [
      "Zduplikowane obiekty:\n"
     ]
    },
    {
     "data": {
      "text/html": [
       "<div>\n",
       "<style scoped>\n",
       "    .dataframe tbody tr th:only-of-type {\n",
       "        vertical-align: middle;\n",
       "    }\n",
       "\n",
       "    .dataframe tbody tr th {\n",
       "        vertical-align: top;\n",
       "    }\n",
       "\n",
       "    .dataframe thead th {\n",
       "        text-align: right;\n",
       "    }\n",
       "</style>\n",
       "<table border=\"1\" class=\"dataframe\">\n",
       "  <thead>\n",
       "    <tr style=\"text-align: right;\">\n",
       "      <th></th>\n",
       "      <th>PassengerId</th>\n",
       "      <th>Survived</th>\n",
       "      <th>Pclass</th>\n",
       "      <th>Name</th>\n",
       "      <th>Sex</th>\n",
       "      <th>Age</th>\n",
       "      <th>SibSp</th>\n",
       "      <th>Parch</th>\n",
       "      <th>Ticket</th>\n",
       "      <th>Fare</th>\n",
       "      <th>Cabin</th>\n",
       "      <th>Embarked</th>\n",
       "    </tr>\n",
       "  </thead>\n",
       "  <tbody>\n",
       "    <tr>\n",
       "      <th>13</th>\n",
       "      <td>11</td>\n",
       "      <td>1</td>\n",
       "      <td>3</td>\n",
       "      <td>Sandstrom, Miss. Marguerite Ru&amp;5$$</td>\n",
       "      <td>female</td>\n",
       "      <td>4</td>\n",
       "      <td>1</td>\n",
       "      <td>1</td>\n",
       "      <td>PP 9549</td>\n",
       "      <td>16,7</td>\n",
       "      <td>G6</td>\n",
       "      <td>S</td>\n",
       "    </tr>\n",
       "    <tr>\n",
       "      <th>23</th>\n",
       "      <td>11</td>\n",
       "      <td>1</td>\n",
       "      <td>3</td>\n",
       "      <td>Sandstrom, Miss. Marguerite Ru&amp;5$$</td>\n",
       "      <td>female</td>\n",
       "      <td>4</td>\n",
       "      <td>1</td>\n",
       "      <td>1</td>\n",
       "      <td>PP 9549</td>\n",
       "      <td>16,7</td>\n",
       "      <td>G6</td>\n",
       "      <td>S</td>\n",
       "    </tr>\n",
       "    <tr>\n",
       "      <th>520</th>\n",
       "      <td>225</td>\n",
       "      <td>1</td>\n",
       "      <td>1</td>\n",
       "      <td>Hoyt, Mr. Frederick Maxfield</td>\n",
       "      <td>male</td>\n",
       "      <td>38</td>\n",
       "      <td>1</td>\n",
       "      <td>0</td>\n",
       "      <td>19943</td>\n",
       "      <td>90</td>\n",
       "      <td>C93</td>\n",
       "      <td>S</td>\n",
       "    </tr>\n",
       "  </tbody>\n",
       "</table>\n",
       "</div>"
      ],
      "text/plain": [
       "     PassengerId  Survived  Pclass                                Name  \\\n",
       "13            11         1       3  Sandstrom, Miss. Marguerite Ru&5$$   \n",
       "23            11         1       3  Sandstrom, Miss. Marguerite Ru&5$$   \n",
       "520          225         1       1        Hoyt, Mr. Frederick Maxfield   \n",
       "\n",
       "        Sex Age  SibSp  Parch   Ticket  Fare Cabin Embarked  \n",
       "13   female   4      1      1  PP 9549  16,7    G6        S  \n",
       "23   female   4      1      1  PP 9549  16,7    G6        S  \n",
       "520    male  38      1      0    19943    90   C93        S  "
      ]
     },
     "execution_count": 9,
     "metadata": {},
     "output_type": "execute_result"
    }
   ],
   "source": [
    "duplicateRowsDF = df[df.duplicated()]\n",
    "print(\"Zduplikowane obiekty:\")\n",
    "duplicateRowsDF"
   ]
  },
  {
   "cell_type": "markdown",
   "metadata": {},
   "source": [
    "13 i 23 obiekt są takie same jak obiekt o identyfikatorze PassengerId równym 11. 520 obiekt jest duplikatem obiektu o PassengerId równym 225. \n",
    "\n",
    "W zbiorze znajduje się 891 obiektów, a kolumna PassengerId zawiera 888 różnych wartości. Najprawdopodobniej kolumna ta jest jedynie identyfikatorem. Unikatowy identyfikator może być generowany automatycznie podczas tworzenia obiektów, lecz informacje znajdujące się w innych kolumnach mogą być zduplikowane. Poniżej zostanie sprawdzone czy istnieją duplikaty obiektów nie uwzględniając kolumny PassengerId."
   ]
  },
  {
   "cell_type": "code",
   "execution_count": 10,
   "metadata": {},
   "outputs": [
    {
     "data": {
      "text/html": [
       "<div>\n",
       "<style scoped>\n",
       "    .dataframe tbody tr th:only-of-type {\n",
       "        vertical-align: middle;\n",
       "    }\n",
       "\n",
       "    .dataframe tbody tr th {\n",
       "        vertical-align: top;\n",
       "    }\n",
       "\n",
       "    .dataframe thead th {\n",
       "        text-align: right;\n",
       "    }\n",
       "</style>\n",
       "<table border=\"1\" class=\"dataframe\">\n",
       "  <thead>\n",
       "    <tr style=\"text-align: right;\">\n",
       "      <th></th>\n",
       "      <th>Survived</th>\n",
       "      <th>Pclass</th>\n",
       "      <th>Name</th>\n",
       "      <th>Sex</th>\n",
       "      <th>Age</th>\n",
       "      <th>SibSp</th>\n",
       "      <th>Parch</th>\n",
       "      <th>Ticket</th>\n",
       "      <th>Fare</th>\n",
       "      <th>Cabin</th>\n",
       "      <th>Embarked</th>\n",
       "    </tr>\n",
       "  </thead>\n",
       "  <tbody>\n",
       "    <tr>\n",
       "      <th>13</th>\n",
       "      <td>1</td>\n",
       "      <td>3</td>\n",
       "      <td>Sandstrom, Miss. Marguerite Ru&amp;5$$</td>\n",
       "      <td>female</td>\n",
       "      <td>4</td>\n",
       "      <td>1</td>\n",
       "      <td>1</td>\n",
       "      <td>PP 9549</td>\n",
       "      <td>16,7</td>\n",
       "      <td>G6</td>\n",
       "      <td>S</td>\n",
       "    </tr>\n",
       "    <tr>\n",
       "      <th>23</th>\n",
       "      <td>1</td>\n",
       "      <td>3</td>\n",
       "      <td>Sandstrom, Miss. Marguerite Ru&amp;5$$</td>\n",
       "      <td>female</td>\n",
       "      <td>4</td>\n",
       "      <td>1</td>\n",
       "      <td>1</td>\n",
       "      <td>PP 9549</td>\n",
       "      <td>16,7</td>\n",
       "      <td>G6</td>\n",
       "      <td>S</td>\n",
       "    </tr>\n",
       "    <tr>\n",
       "      <th>520</th>\n",
       "      <td>1</td>\n",
       "      <td>1</td>\n",
       "      <td>Hoyt, Mr. Frederick Maxfield</td>\n",
       "      <td>male</td>\n",
       "      <td>38</td>\n",
       "      <td>1</td>\n",
       "      <td>0</td>\n",
       "      <td>19943</td>\n",
       "      <td>90</td>\n",
       "      <td>C93</td>\n",
       "      <td>S</td>\n",
       "    </tr>\n",
       "  </tbody>\n",
       "</table>\n",
       "</div>"
      ],
      "text/plain": [
       "     Survived  Pclass                                Name     Sex Age  SibSp  \\\n",
       "13          1       3  Sandstrom, Miss. Marguerite Ru&5$$  female   4      1   \n",
       "23          1       3  Sandstrom, Miss. Marguerite Ru&5$$  female   4      1   \n",
       "520         1       1        Hoyt, Mr. Frederick Maxfield    male  38      1   \n",
       "\n",
       "     Parch   Ticket  Fare Cabin Embarked  \n",
       "13       1  PP 9549  16,7    G6        S  \n",
       "23       1  PP 9549  16,7    G6        S  \n",
       "520      0    19943    90   C93        S  "
      ]
     },
     "execution_count": 10,
     "metadata": {},
     "output_type": "execute_result"
    }
   ],
   "source": [
    "idColumn='PassengerId'\n",
    "df2 = df.drop(idColumn, axis=1)\n",
    "duplicateRowsDF2 = df2[df2.duplicated()]\n",
    "\n",
    "duplicateRowsDF2"
   ]
  },
  {
   "cell_type": "markdown",
   "metadata": {},
   "source": [
    "Obie tabele zawiarają takie same obiekty, innymi słowy nie ma znaczenia czy podczas usuwania duplikatów zostanie uwzględniony identyfikator."
   ]
  },
  {
   "cell_type": "code",
   "execution_count": 11,
   "metadata": {},
   "outputs": [
    {
     "name": "stdout",
     "output_type": "stream",
     "text": [
      "Liczba obiektów po usunięciu duplikatów:  886\n"
     ]
    }
   ],
   "source": [
    "df.drop_duplicates(keep=False,inplace=True)\n",
    "print('Liczba obiektów po usunięciu duplikatów: ',len(df)-1)"
   ]
  },
  {
   "cell_type": "markdown",
   "metadata": {},
   "source": [
    "W wyniku usunięcia kolumny ship i zduplikowanych obiektów zbiór nie zawiera już niepotrzebnych danych."
   ]
  },
  {
   "cell_type": "code",
   "execution_count": 12,
   "metadata": {},
   "outputs": [
    {
     "name": "stdout",
     "output_type": "stream",
     "text": [
      "PassengerId is unique: True\n",
      "Survived is unique: False\n",
      "Pclass is unique: False\n",
      "Name is unique: True\n",
      "Sex is unique: False\n",
      "Age is unique: False\n",
      "SibSp is unique: False\n",
      "Parch is unique: False\n",
      "Ticket is unique: False\n",
      "Fare is unique: False\n",
      "Cabin is unique: False\n",
      "Embarked is unique: False\n"
     ]
    }
   ],
   "source": [
    "column_names = df.columns\n",
    "for i in column_names:\n",
    "  print('{} is unique: {}'.format(i, df[i].is_unique))"
   ]
  },
  {
   "cell_type": "markdown",
   "metadata": {},
   "source": [
    "## Niespójne dane"
   ]
  },
  {
   "cell_type": "markdown",
   "metadata": {},
   "source": [
    "### Kolumna Embarked"
   ]
  },
  {
   "cell_type": "markdown",
   "metadata": {},
   "source": [
    "Pewne kolumny mogą posiadać listę wartości jakie mogą przechowywać. Jedną z nich jest kolumna Embarked."
   ]
  },
  {
   "cell_type": "markdown",
   "metadata": {},
   "source": [
    "Poprzez wyznaczenie wartości jakie znajdują się w kolumnie w prosty sposób można sprawdzić czy kolumna nia zawiera niespójnych danych - wartości niepożądanych.\n",
    "\n",
    "Lista wartości jakie znajdują się w kolumnie Embarked."
   ]
  },
  {
   "cell_type": "code",
   "execution_count": 13,
   "metadata": {},
   "outputs": [
    {
     "data": {
      "text/plain": [
       "['S', 'C', 'Q', 'So', nan, 'Co', 'Qe']"
      ]
     },
     "execution_count": 13,
     "metadata": {},
     "output_type": "execute_result"
    }
   ],
   "source": [
    "df['Embarked'].unique().tolist()"
   ]
  },
  {
   "cell_type": "markdown",
   "metadata": {},
   "source": [
    "Według opisu zbioru kolumna Embarked może przyjmować jedną z trzech wartości: C, Q, S. \n",
    "\n",
    "W zbiorze są 4 wiersze, w których znajduje się niepoprawna wartość w kolumnie Embarked"
   ]
  },
  {
   "cell_type": "code",
   "execution_count": 14,
   "metadata": {},
   "outputs": [
    {
     "data": {
      "text/html": [
       "<div>\n",
       "<style scoped>\n",
       "    .dataframe tbody tr th:only-of-type {\n",
       "        vertical-align: middle;\n",
       "    }\n",
       "\n",
       "    .dataframe tbody tr th {\n",
       "        vertical-align: top;\n",
       "    }\n",
       "\n",
       "    .dataframe thead th {\n",
       "        text-align: right;\n",
       "    }\n",
       "</style>\n",
       "<table border=\"1\" class=\"dataframe\">\n",
       "  <thead>\n",
       "    <tr style=\"text-align: right;\">\n",
       "      <th></th>\n",
       "      <th>PassengerId</th>\n",
       "      <th>Survived</th>\n",
       "      <th>Pclass</th>\n",
       "      <th>Name</th>\n",
       "      <th>Sex</th>\n",
       "      <th>Age</th>\n",
       "      <th>SibSp</th>\n",
       "      <th>Parch</th>\n",
       "      <th>Ticket</th>\n",
       "      <th>Fare</th>\n",
       "      <th>Cabin</th>\n",
       "      <th>Embarked</th>\n",
       "    </tr>\n",
       "  </thead>\n",
       "  <tbody>\n",
       "    <tr>\n",
       "      <th>17</th>\n",
       "      <td>18</td>\n",
       "      <td>1</td>\n",
       "      <td>2</td>\n",
       "      <td>Williams, Mr. Charles Eugene</td>\n",
       "      <td>male</td>\n",
       "      <td>NaN</td>\n",
       "      <td>0</td>\n",
       "      <td>0</td>\n",
       "      <td>244373</td>\n",
       "      <td>13</td>\n",
       "      <td>NaN</td>\n",
       "      <td>So</td>\n",
       "    </tr>\n",
       "    <tr>\n",
       "      <th>221</th>\n",
       "      <td>222</td>\n",
       "      <td>0</td>\n",
       "      <td>2</td>\n",
       "      <td>Bracken, Mr. James H</td>\n",
       "      <td>male</td>\n",
       "      <td>27</td>\n",
       "      <td>0</td>\n",
       "      <td>0</td>\n",
       "      <td>220367</td>\n",
       "      <td>13</td>\n",
       "      <td>NaN</td>\n",
       "      <td>So</td>\n",
       "    </tr>\n",
       "    <tr>\n",
       "      <th>598</th>\n",
       "      <td>599</td>\n",
       "      <td>0</td>\n",
       "      <td>3</td>\n",
       "      <td>Boulos, Mr. Hanna</td>\n",
       "      <td>male</td>\n",
       "      <td>NaN</td>\n",
       "      <td>0</td>\n",
       "      <td>0</td>\n",
       "      <td>2664</td>\n",
       "      <td>7,225</td>\n",
       "      <td>NaN</td>\n",
       "      <td>Co</td>\n",
       "    </tr>\n",
       "    <tr>\n",
       "      <th>626</th>\n",
       "      <td>627</td>\n",
       "      <td>0</td>\n",
       "      <td>2</td>\n",
       "      <td>Kirkland, Rev. Charles Leonard</td>\n",
       "      <td>male</td>\n",
       "      <td>57</td>\n",
       "      <td>0</td>\n",
       "      <td>0</td>\n",
       "      <td>219533</td>\n",
       "      <td>12,35</td>\n",
       "      <td>NaN</td>\n",
       "      <td>Qe</td>\n",
       "    </tr>\n",
       "  </tbody>\n",
       "</table>\n",
       "</div>"
      ],
      "text/plain": [
       "     PassengerId  Survived  Pclass                            Name   Sex  Age  \\\n",
       "17            18         1       2    Williams, Mr. Charles Eugene  male  NaN   \n",
       "221          222         0       2            Bracken, Mr. James H  male   27   \n",
       "598          599         0       3               Boulos, Mr. Hanna  male  NaN   \n",
       "626          627         0       2  Kirkland, Rev. Charles Leonard  male   57   \n",
       "\n",
       "     SibSp  Parch  Ticket   Fare Cabin Embarked  \n",
       "17       0      0  244373     13   NaN       So  \n",
       "221      0      0  220367     13   NaN       So  \n",
       "598      0      0    2664  7,225   NaN       Co  \n",
       "626      0      0  219533  12,35   NaN       Qe  "
      ]
     },
     "execution_count": 14,
     "metadata": {},
     "output_type": "execute_result"
    }
   ],
   "source": [
    "listValues={'S','C','Q'}\n",
    "listRowsWithoutNanInColumn= df[df['Embarked'].notna()]\n",
    "\n",
    "listIncorrectRows=listRowsWithoutNanInColumn.loc[~df['Embarked'].isin(listValues)]\n",
    "listIncorrectRows"
   ]
  },
  {
   "cell_type": "markdown",
   "metadata": {},
   "source": [
    "Najprostszym sposobem zlikwidowania niespójności danych w kolumnie Embarked byłoby usunięcie wierszy, w których Embarked równe jest „So”, „Co” lub „Qe”. \n",
    "\n",
    "W tym przypadku widać, że pierwsza litera jest poprawna, a następna została wpisana omyłkowo, dlatego wartość „So” zostaje zastąpiona wartością „S”, „Co” - „C”, a „Qe” - „Q”. Zamiana będzie możliwa, gdy błędnie wpisany ciąg tekstowy będzie zawierać „S”, „C” lub „Q”."
   ]
  },
  {
   "cell_type": "code",
   "execution_count": 15,
   "metadata": {},
   "outputs": [
    {
     "name": "stdout",
     "output_type": "stream",
     "text": [
      "Tabela zawierająca obiekty po usunięciu niespójności:\n"
     ]
    },
    {
     "data": {
      "text/html": [
       "<div>\n",
       "<style scoped>\n",
       "    .dataframe tbody tr th:only-of-type {\n",
       "        vertical-align: middle;\n",
       "    }\n",
       "\n",
       "    .dataframe tbody tr th {\n",
       "        vertical-align: top;\n",
       "    }\n",
       "\n",
       "    .dataframe thead th {\n",
       "        text-align: right;\n",
       "    }\n",
       "</style>\n",
       "<table border=\"1\" class=\"dataframe\">\n",
       "  <thead>\n",
       "    <tr style=\"text-align: right;\">\n",
       "      <th></th>\n",
       "      <th>PassengerId</th>\n",
       "      <th>Survived</th>\n",
       "      <th>Pclass</th>\n",
       "      <th>Name</th>\n",
       "      <th>Sex</th>\n",
       "      <th>Age</th>\n",
       "      <th>SibSp</th>\n",
       "      <th>Parch</th>\n",
       "      <th>Ticket</th>\n",
       "      <th>Fare</th>\n",
       "      <th>Cabin</th>\n",
       "      <th>Embarked</th>\n",
       "    </tr>\n",
       "  </thead>\n",
       "  <tbody>\n",
       "    <tr>\n",
       "      <th>17</th>\n",
       "      <td>18</td>\n",
       "      <td>1</td>\n",
       "      <td>2</td>\n",
       "      <td>Williams, Mr. Charles Eugene</td>\n",
       "      <td>male</td>\n",
       "      <td>NaN</td>\n",
       "      <td>0</td>\n",
       "      <td>0</td>\n",
       "      <td>244373</td>\n",
       "      <td>13</td>\n",
       "      <td>NaN</td>\n",
       "      <td>S</td>\n",
       "    </tr>\n",
       "    <tr>\n",
       "      <th>221</th>\n",
       "      <td>222</td>\n",
       "      <td>0</td>\n",
       "      <td>2</td>\n",
       "      <td>Bracken, Mr. James H</td>\n",
       "      <td>male</td>\n",
       "      <td>27</td>\n",
       "      <td>0</td>\n",
       "      <td>0</td>\n",
       "      <td>220367</td>\n",
       "      <td>13</td>\n",
       "      <td>NaN</td>\n",
       "      <td>S</td>\n",
       "    </tr>\n",
       "    <tr>\n",
       "      <th>598</th>\n",
       "      <td>599</td>\n",
       "      <td>0</td>\n",
       "      <td>3</td>\n",
       "      <td>Boulos, Mr. Hanna</td>\n",
       "      <td>male</td>\n",
       "      <td>NaN</td>\n",
       "      <td>0</td>\n",
       "      <td>0</td>\n",
       "      <td>2664</td>\n",
       "      <td>7,225</td>\n",
       "      <td>NaN</td>\n",
       "      <td>C</td>\n",
       "    </tr>\n",
       "    <tr>\n",
       "      <th>626</th>\n",
       "      <td>627</td>\n",
       "      <td>0</td>\n",
       "      <td>2</td>\n",
       "      <td>Kirkland, Rev. Charles Leonard</td>\n",
       "      <td>male</td>\n",
       "      <td>57</td>\n",
       "      <td>0</td>\n",
       "      <td>0</td>\n",
       "      <td>219533</td>\n",
       "      <td>12,35</td>\n",
       "      <td>NaN</td>\n",
       "      <td>Q</td>\n",
       "    </tr>\n",
       "  </tbody>\n",
       "</table>\n",
       "</div>"
      ],
      "text/plain": [
       "     PassengerId  Survived  Pclass                            Name   Sex  Age  \\\n",
       "17            18         1       2    Williams, Mr. Charles Eugene  male  NaN   \n",
       "221          222         0       2            Bracken, Mr. James H  male   27   \n",
       "598          599         0       3               Boulos, Mr. Hanna  male  NaN   \n",
       "626          627         0       2  Kirkland, Rev. Charles Leonard  male   57   \n",
       "\n",
       "     SibSp  Parch  Ticket   Fare  Cabin Embarked  \n",
       "17       0      0  244373     13    NaN        S  \n",
       "221      0      0  220367     13    NaN        S  \n",
       "598      0      0    2664  7,225    NaN        C  \n",
       "626      0      0  219533  12,35    NaN        Q  "
      ]
     },
     "execution_count": 15,
     "metadata": {},
     "output_type": "execute_result"
    }
   ],
   "source": [
    "for i in range(len(listIncorrectRows)):\n",
    "    embarked=listIncorrectRows.iloc[i]['Embarked']   \n",
    "  \n",
    "    for lv in listValues:        \n",
    "        if  lv in embarked:\n",
    "            df=df.replace(embarked, lv)\n",
    "            listIncorrectRows=listIncorrectRows.replace(embarked, lv)\n",
    "\n",
    "print(\"Tabela zawierająca obiekty po usunięciu niespójności:\")\n",
    "listIncorrectRows"
   ]
  },
  {
   "cell_type": "markdown",
   "metadata": {},
   "source": [
    "Po zamianie w kolumnie Embarked znajdują się tylko puste wartości i C, Q, S."
   ]
  },
  {
   "cell_type": "code",
   "execution_count": 16,
   "metadata": {},
   "outputs": [
    {
     "name": "stdout",
     "output_type": "stream",
     "text": [
      "['S', 'C', 'Q', nan]\n"
     ]
    }
   ],
   "source": [
    "print(df['Embarked'].unique().tolist())"
   ]
  },
  {
   "cell_type": "markdown",
   "metadata": {},
   "source": [
    "### Kolumna Age "
   ]
  },
  {
   "cell_type": "markdown",
   "metadata": {},
   "source": [
    "Lista unikalnych wartości w kolumnie Age."
   ]
  },
  {
   "cell_type": "code",
   "execution_count": 17,
   "metadata": {},
   "outputs": [
    {
     "data": {
      "text/plain": [
       "array(['22', '38', '26', '35', nan, '54', '2', '27', '14', '58', '20',\n",
       "       '55', '31', '34', '15', '8', '19', '40', '.9', '66', '28', '42',\n",
       "       '21', '18', '3', '7', '49', '29', '65', '28,5', '5', '11', '45',\n",
       "       '4', '17', '32', '16', '25', '0,83', '30', '33', '23', '24', '46',\n",
       "       '59', '71', '37', '47', '14,5', '70,5', '32,5', '12', '9', '36,5',\n",
       "       '51', '55,5', '40,5', '44', '1', '61', '56', '50', '36', '45,5',\n",
       "       '4435', '20,5', '62', '41', '52', '63', '23,5', '0,92', '43', '60',\n",
       "       '39', '10', '64', '13', '48', '0,75', '-3', '-12', '53', '57',\n",
       "       '80', '250', '70', '24,5', '6', '0,67', '30,5', '0,42', '34,5',\n",
       "       '74'], dtype=object)"
      ]
     },
     "execution_count": 17,
     "metadata": {},
     "output_type": "execute_result"
    }
   ],
   "source": [
    "df['Age'].unique()"
   ]
  },
  {
   "cell_type": "markdown",
   "metadata": {},
   "source": [
    "Tak jak wcześniej podejrzewano kolumna nie zawiera jedynie dodatnich liczb całkowitych. Dodatkowo Age równy 4435 nie jest poprawną wartością.\n",
    "\n",
    "Kolumna zawiera oprócz poprawnych wartości: puste wartości, liczby zbyt duże, liczby rzeczywiste, których separatorem dziesiętnym jest przecinek oraz liczby poprzedzone znakiem kropki lub minusa."
   ]
  },
  {
   "cell_type": "code",
   "execution_count": 18,
   "metadata": {},
   "outputs": [],
   "source": [
    "for i in range(len(df)):\n",
    "    age=df.iloc[i]['Age']\n",
    "   \n",
    "    try: \n",
    "        age=int(age)        \n",
    "       \n",
    "    except ValueError  :\n",
    "        pass  \n",
    "            \n",
    "    else:\n",
    "        if age<0:\n",
    "            correctAge=age - 2*age\n",
    "            df.at[i,'Age'] = correctAge                        \n",
    "            "
   ]
  },
  {
   "cell_type": "code",
   "execution_count": 19,
   "metadata": {},
   "outputs": [
    {
     "data": {
      "text/plain": [
       "array(['22', '38', '26', '35', nan, '54', '2', '27', '14', '58', '20',\n",
       "       '55', '31', '34', '15', '8', '19', '40', '.9', '66', '28', '42',\n",
       "       '21', '18', '3', '7', '49', '29', '65', '28,5', '5', '11', '45',\n",
       "       '4', '17', '32', '16', '25', '0,83', '30', '33', '23', '24', '46',\n",
       "       '59', '71', '37', '47', '14,5', '70,5', '32,5', '12', '9', '36,5',\n",
       "       '51', '55,5', '40,5', '44', '1', '61', '56', '50', '36', '45,5',\n",
       "       '4435', '20,5', '62', '41', '52', '63', '23,5', '0,92', '43', '60',\n",
       "       '39', '10', '64', '13', '48', '0,75', 3, '-3', 12, '-12', '53',\n",
       "       '57', '80', '250', '70', '24,5', '6', '0,67', '30,5', '0,42',\n",
       "       '34,5', '74'], dtype=object)"
      ]
     },
     "execution_count": 19,
     "metadata": {},
     "output_type": "execute_result"
    }
   ],
   "source": [
    "df['Age'].unique()"
   ]
  },
  {
   "cell_type": "markdown",
   "metadata": {},
   "source": [
    "Jak widać powyżej kolumna Age nie zawiera całkowitych liczb ujemnych."
   ]
  },
  {
   "cell_type": "markdown",
   "metadata": {},
   "source": [
    "## Brakujące wartości"
   ]
  },
  {
   "cell_type": "markdown",
   "metadata": {},
   "source": [
    "W zbiorze występują problemy z jakością danych, gdy można w nim odnaleźć brakujące wartości.\n",
    "\n",
    "Poniższa heatmapa przedstawia, w których kolumnach można zaobserwować puste wartości."
   ]
  },
  {
   "cell_type": "code",
   "execution_count": 20,
   "metadata": {},
   "outputs": [
    {
     "data": {
      "text/plain": [
       "<AxesSubplot:>"
      ]
     },
     "execution_count": 20,
     "metadata": {},
     "output_type": "execute_result"
    },
    {
     "data": {
      "image/png": "[encoded data removed]",
      "text/plain": [
       "<Figure size 432x288 with 2 Axes>"
      ]
     },
     "metadata": {
      "needs_background": "light"
     },
     "output_type": "display_data"
    }
   ],
   "source": [
    "colours = ['#000099', '#ffff00']\n",
    "sns.heatmap(df.isnull(),cmap=sns.color_palette(colours))"
   ]
  },
  {
   "cell_type": "markdown",
   "metadata": {},
   "source": [
    "Puste wartości występują w kolumnie:\n",
    "- Age, \n",
    "- Cabin,\n",
    "- Embarked.\n",
    "\n",
    "Poniższy kod sprawdzia jaki jest procent brakujących wartości we wszystkich kolumnnach. \n",
    "Poniższy kod przedstawia procent występowania brakujących wartości w każdej kolumnie."
   ]
  },
  {
   "cell_type": "code",
   "execution_count": 21,
   "metadata": {},
   "outputs": [
    {
     "data": {
      "text/plain": [
       "PassengerId    0.000000\n",
       "Survived       0.000000\n",
       "Pclass         0.000000\n",
       "Name           0.000000\n",
       "Sex            0.000000\n",
       "Age            0.193912\n",
       "SibSp          0.000000\n",
       "Parch          0.000000\n",
       "Ticket         0.000000\n",
       "Fare           0.000000\n",
       "Cabin          0.772266\n",
       "Embarked       0.002255\n",
       "dtype: float64"
      ]
     },
     "execution_count": 21,
     "metadata": {},
     "output_type": "execute_result"
    }
   ],
   "source": [
    "df.isnull().sum()/len(df)"
   ]
  },
  {
   "cell_type": "markdown",
   "metadata": {},
   "source": [
    "### Usuwanie kolumny, gdy zawiera bardzo dużą liczbę brakujących wartości"
   ]
  },
  {
   "cell_type": "markdown",
   "metadata": {},
   "source": [
    "Brakujące wartości w kolumnie Cabin stanowią, aż 77,2 %. Zastępowanie tak wielu wartości może nie wpłynąć pozytywnie na np. jakość klasyfikacji, może naruszyć naturalnie występujące korelacje między zmiennymi - utworzyć sztuczne relacje. W związku z tym kolumna Cabin zostanie usunięta ze zbioru.\n",
    "\n",
    "\n",
    "To czy kolumna z dużą liczbą pustych wartości zostanie usunięta zależy m.in od zbioru. \n",
    "\n",
    "Poniższy kod pozwala wprowadzić procent powyżej jakiego mają stanowić brakujące wartości, aby usunąć kolumnę. W chwili naciśnięcia klawisza ENTER (bez wprowadzenia liczby lub wpisując 0) zostaną usunięte domyślnie te kolumny, w których brakujące wartości stanowią ponad 70%."
   ]
  },
  {
   "cell_type": "code",
   "execution_count": 34,
   "metadata": {},
   "outputs": [
    {
     "name": "stdin",
     "output_type": "stream",
     "text": [
      "Wprowadź procent występowania brakujących wartości, powyżej którego kolumna zostanie usunięta:  15\n"
     ]
    }
   ],
   "source": [
    "inputPercentWhenDeleteColumn=float(input(\"Wprowadź procent występowania brakujących wartości, powyżej którego kolumna zostanie usunięta: \"))\n",
    "\n",
    "if inputPercentWhenDeleteColumn==0:\n",
    "    inputPercentWhenDeleteColumn=0.7\n",
    "else:\n",
    "    inputPercentWhenDeleteColumn=inputPercentWhenDeleteColumn/100\n",
    "  \n",
    "cols = df.columns[df.isnull().mean()>inputPercentWhenDeleteColumn] \n",
    "df=df.drop(cols, axis=1)"
   ]
  },
  {
   "cell_type": "code",
   "execution_count": 35,
   "metadata": {},
   "outputs": [
    {
     "name": "stdout",
     "output_type": "stream",
     "text": [
      "Lista kolumn po usunięciu kolumny (kolumn), w której brakujące wartości stanowią powyżej 15.0%.\n"
     ]
    }
   ],
   "source": [
    "print(\"Lista kolumn po usunięciu kolumny (kolumn), w której brakujące wartości stanowią powyżej \"+ str(inputPercentWhenDeleteColumn*100)+\"%.\")"
   ]
  },
  {
   "cell_type": "code",
   "execution_count": 36,
   "metadata": {},
   "outputs": [
    {
     "name": "stdout",
     "output_type": "stream",
     "text": [
      "['PassengerId' 'Survived' 'Pclass' 'Name' 'Sex' 'SibSp' 'Parch' 'Ticket'\n",
      " 'Fare' 'Embarked']\n"
     ]
    }
   ],
   "source": [
    "print(df.columns.values)"
   ]
  },
  {
   "cell_type": "markdown",
   "metadata": {},
   "source": [
    "### Zastępowanie pustych wartości - przy bardzo małej liczbie brakujących wartości"
   ]
  },
  {
   "cell_type": "markdown",
   "metadata": {},
   "source": [
    "W zbiorze mogą istnieć kolumny z bardzo małą liczbą brakujących wartości. W takim przypadku brakujące wartości można zastąpić wartością średnią lub medianą - dane ilościowe, a w przypadku danych jakościowych najczęściej występującą wartością w kolumnie. W zbiorze Titanic jest to kolumna Embarked. "
   ]
  },
  {
   "cell_type": "code",
   "execution_count": 25,
   "metadata": {},
   "outputs": [],
   "source": [
    "# df2 zawiera kolumny, w których można odnaleźć puste wartości\n",
    "namesColWithoutNa = df.columns[~df.isnull().any()]\n",
    "df2=df.drop(namesColWithoutNa, axis = 1) "
   ]
  },
  {
   "cell_type": "code",
   "execution_count": 26,
   "metadata": {},
   "outputs": [
    {
     "name": "stdout",
     "output_type": "stream",
     "text": [
      "Kolumny zawierające dane ilościowe, w których puste wartości stanowią mniej niż (pomijając kolumny, które nie posiadają pustych wartości): 5.0% []\n"
     ]
    }
   ],
   "source": [
    "procMissingValuesWhenFillMeanOrFreq=0.05\n",
    "\n",
    "namesColWithSmallNa = df2.columns[df2.isnull().mean()<procMissingValuesWhenFillMeanOrFreq]\n",
    "\n",
    "colWithNa=df2[namesColWithSmallNa]\n",
    "\n",
    "df_numeric = colWithNa.select_dtypes(include=[np.number])\n",
    "numeric_cols = df_numeric.columns.values\n",
    "print(\"Kolumny zawierające dane ilościowe, w których puste wartości stanowią mniej niż (pomijając kolumny, które nie posiadają pustych wartości): \"+ str(procMissingValuesWhenFillMeanOrFreq*100)+\"%\", numeric_cols)      "
   ]
  },
  {
   "cell_type": "markdown",
   "metadata": {},
   "source": [
    "W zbiorze mogą istnieć kolumny z bardzo małą liczbą brakujących wartości. W takim przypadku brakujące wartości można zastąpić wartością średnią lub medianą - dane ilościowe, a w przypadku danych jakościowych najczęściej występującą wartością w kolumnie. W zbiorze Titanic jest to kolumna Embarked. "
   ]
  },
  {
   "cell_type": "markdown",
   "metadata": {},
   "source": [
    "Zastępowanie pustych wartości wartością średnią."
   ]
  },
  {
   "cell_type": "code",
   "execution_count": 27,
   "metadata": {},
   "outputs": [],
   "source": [
    "for columnName in numeric_cols:   \n",
    "    mean_value=df[columnName].mean()\n",
    "    df[columnName].fillna(mean_value,inplace = True)"
   ]
  },
  {
   "cell_type": "markdown",
   "metadata": {},
   "source": [
    "Kolumny zawierające dane jakościowe."
   ]
  },
  {
   "cell_type": "code",
   "execution_count": 28,
   "metadata": {},
   "outputs": [
    {
     "name": "stdout",
     "output_type": "stream",
     "text": [
      "Kolumny zawierające dane jakościowe, w których puste wartości stanowią mniej niż (pomijając kolumny, które nie posiadają pustych wartości): 5.0% ['Embarked']\n"
     ]
    }
   ],
   "source": [
    "df_non_numeric = colWithNa.select_dtypes(exclude=[np.number])\n",
    "non_numeric_cols = df_non_numeric.columns.values\n",
    "print(\"Kolumny zawierające dane jakościowe, w których puste wartości stanowią mniej niż (pomijając kolumny, które nie posiadają pustych wartości): \"+ str(procMissingValuesWhenFillMeanOrFreq*100)+\"%\", non_numeric_cols)"
   ]
  },
  {
   "cell_type": "markdown",
   "metadata": {},
   "source": [
    "Zastępowanie brakujących wartości najczęściej występującą wartością w kolumnie."
   ]
  },
  {
   "cell_type": "code",
   "execution_count": 29,
   "metadata": {},
   "outputs": [],
   "source": [
    "for columnName in non_numeric_cols:\n",
    "    mostFreqValue=df[columnName].value_counts().idxmax()\n",
    "    df[columnName].fillna(mostFreqValue, inplace = True)"
   ]
  },
  {
   "cell_type": "code",
   "execution_count": 37,
   "metadata": {},
   "outputs": [
    {
     "data": {
      "text/plain": [
       "PassengerId    False\n",
       "Survived       False\n",
       "Pclass         False\n",
       "Name           False\n",
       "Sex            False\n",
       "SibSp          False\n",
       "Parch          False\n",
       "Ticket         False\n",
       "Fare           False\n",
       "Embarked       False\n",
       "dtype: bool"
      ]
     },
     "execution_count": 37,
     "metadata": {},
     "output_type": "execute_result"
    }
   ],
   "source": [
    "df.isna().any()"
   ]
  },
  {
   "cell_type": "markdown",
   "metadata": {},
   "source": [
    "Ostatnią kolumną, która posiada puste wartości jest Age. Wiersze, które zawierają je są usuwane wraz z tymi w kolumnie Embarked."
   ]
  },
  {
   "cell_type": "markdown",
   "metadata": {},
   "source": [
    "## Zapisanie oczyszczonego zbioru do pliku tsv."
   ]
  },
  {
   "cell_type": "code",
   "execution_count": 38,
   "metadata": {},
   "outputs": [],
   "source": [
    "df.to_csv(\"TitanicCleaned.tsv\", sep=\"\\t\")"
   ]
  },
  {
   "cell_type": "code",
   "execution_count": null,
   "metadata": {},
   "outputs": [],
   "source": []
  }
 ],
 "metadata": {
  "kernelspec": {
   "display_name": "Python 3",
   "language": "python",
   "name": "python3"
  },
  "language_info": {
   "codemirror_mode": {
    "name": "ipython",
    "version": 3
   },
   "file_extension": ".py",
   "mimetype": "text/x-python",
   "name": "python",
   "nbconvert_exporter": "python",
   "pygments_lexer": "ipython3",
   "version": "3.8.8"
  }
 },
 "nbformat": 4,
 "nbformat_minor": 4
}
